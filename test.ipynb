{
 "cells": [
  {
   "cell_type": "code",
   "execution_count": 22,
   "id": "3a0b0379-7ccd-4d57-81e2-5d6929f19467",
   "metadata": {},
   "outputs": [],
   "source": [
    "import pandas as pd\n",
    "import cv2\n",
    "import os\n",
    "import numpy as np\n",
    "\n",
    "from PIL import Image"
   ]
  },
  {
   "cell_type": "code",
   "execution_count": 2,
   "id": "3c3a3cc0-d8df-4ab9-a4cb-4db3339920d7",
   "metadata": {},
   "outputs": [],
   "source": [
    "data = pd.read_csv(\"../FloodDataset/metadata.csv\")"
   ]
  },
  {
   "cell_type": "code",
   "execution_count": 3,
   "id": "48f8f27c-f1ad-4966-811f-20fe3ae12662",
   "metadata": {},
   "outputs": [
    {
     "data": {
      "text/html": [
       "<div>\n",
       "<style scoped>\n",
       "    .dataframe tbody tr th:only-of-type {\n",
       "        vertical-align: middle;\n",
       "    }\n",
       "\n",
       "    .dataframe tbody tr th {\n",
       "        vertical-align: top;\n",
       "    }\n",
       "\n",
       "    .dataframe thead th {\n",
       "        text-align: right;\n",
       "    }\n",
       "</style>\n",
       "<table border=\"1\" class=\"dataframe\">\n",
       "  <thead>\n",
       "    <tr style=\"text-align: right;\">\n",
       "      <th></th>\n",
       "      <th>Image</th>\n",
       "      <th>Mask</th>\n",
       "    </tr>\n",
       "  </thead>\n",
       "  <tbody>\n",
       "    <tr>\n",
       "      <th>0</th>\n",
       "      <td>0.jpg</td>\n",
       "      <td>0.png</td>\n",
       "    </tr>\n",
       "    <tr>\n",
       "      <th>1</th>\n",
       "      <td>1.jpg</td>\n",
       "      <td>1.png</td>\n",
       "    </tr>\n",
       "    <tr>\n",
       "      <th>2</th>\n",
       "      <td>2.jpg</td>\n",
       "      <td>2.png</td>\n",
       "    </tr>\n",
       "    <tr>\n",
       "      <th>3</th>\n",
       "      <td>3.jpg</td>\n",
       "      <td>3.png</td>\n",
       "    </tr>\n",
       "    <tr>\n",
       "      <th>4</th>\n",
       "      <td>4.jpg</td>\n",
       "      <td>4.png</td>\n",
       "    </tr>\n",
       "  </tbody>\n",
       "</table>\n",
       "</div>"
      ],
      "text/plain": [
       "   Image   Mask\n",
       "0  0.jpg  0.png\n",
       "1  1.jpg  1.png\n",
       "2  2.jpg  2.png\n",
       "3  3.jpg  3.png\n",
       "4  4.jpg  4.png"
      ]
     },
     "execution_count": 3,
     "metadata": {},
     "output_type": "execute_result"
    }
   ],
   "source": [
    "data.head()"
   ]
  },
  {
   "cell_type": "code",
   "execution_count": 4,
   "id": "af7d8fa9-b73f-4bc1-9ee7-e9669837f6a7",
   "metadata": {},
   "outputs": [
    {
     "data": {
      "text/plain": [
       "290"
      ]
     },
     "execution_count": 4,
     "metadata": {},
     "output_type": "execute_result"
    }
   ],
   "source": [
    "len(data)"
   ]
  },
  {
   "cell_type": "code",
   "execution_count": 7,
   "id": "79200d87-8b0c-4776-bb8d-357eead9c7b2",
   "metadata": {},
   "outputs": [
    {
     "data": {
      "text/plain": [
       "0    0.jpg\n",
       "1    1.jpg\n",
       "2    2.jpg\n",
       "3    3.jpg\n",
       "4    4.jpg\n",
       "5    5.jpg\n",
       "Name: Image, dtype: object"
      ]
     },
     "execution_count": 7,
     "metadata": {},
     "output_type": "execute_result"
    }
   ],
   "source": [
    "data.loc[ 0: 5, \"Image\"]"
   ]
  },
  {
   "cell_type": "code",
   "execution_count": 12,
   "id": "5ce8efa3-8f80-4932-8fc9-1b9ac58adfd1",
   "metadata": {},
   "outputs": [],
   "source": [
    "img_path = os.path.join(\"../FloodDataset/Image\", data.loc[0, \"Image\"])"
   ]
  },
  {
   "cell_type": "code",
   "execution_count": 17,
   "id": "0aea185e-2fb6-431a-9457-603133db33fc",
   "metadata": {},
   "outputs": [],
   "source": [
    "img = cv2.imread(img_path, cv2.IMREAD_COLOR)"
   ]
  },
  {
   "cell_type": "code",
   "execution_count": 18,
   "id": "fa8aa554-a309-4382-a84b-062321663ceb",
   "metadata": {},
   "outputs": [
    {
     "name": "stdout",
     "output_type": "stream",
     "text": [
      "None\n"
     ]
    }
   ],
   "source": [
    "print(img)"
   ]
  },
  {
   "cell_type": "code",
   "execution_count": 32,
   "id": "eb4164c3-b2ba-489f-8384-02b951933b78",
   "metadata": {},
   "outputs": [],
   "source": [
    "cat_img = Image.open(\"./cat.jpg\")"
   ]
  },
  {
   "cell_type": "code",
   "execution_count": 33,
   "id": "1756c704-bd39-4ea8-b489-fe5987cef726",
   "metadata": {},
   "outputs": [],
   "source": [
    "cat_arr = np.asarray(cat_img)"
   ]
  },
  {
   "cell_type": "code",
   "execution_count": 34,
   "id": "2b839d22-2eac-4db1-b708-e09e85551be9",
   "metadata": {},
   "outputs": [
    {
     "data": {
      "text/plain": [
       "(1174, 1920, 3)"
      ]
     },
     "execution_count": 34,
     "metadata": {},
     "output_type": "execute_result"
    }
   ],
   "source": [
    "cat_arr.shape"
   ]
  },
  {
   "cell_type": "code",
   "execution_count": null,
   "id": "d3af672e-c8d8-4673-af7c-99a2a3c1d40b",
   "metadata": {},
   "outputs": [],
   "source": []
  }
 ],
 "metadata": {
  "kernelspec": {
   "display_name": "Python 3 (ipykernel)",
   "language": "python",
   "name": "python3"
  },
  "language_info": {
   "codemirror_mode": {
    "name": "ipython",
    "version": 3
   },
   "file_extension": ".py",
   "mimetype": "text/x-python",
   "name": "python",
   "nbconvert_exporter": "python",
   "pygments_lexer": "ipython3",
   "version": "3.11.11"
  }
 },
 "nbformat": 4,
 "nbformat_minor": 5
}
